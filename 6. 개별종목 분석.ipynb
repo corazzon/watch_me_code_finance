{
 "cells": [
  {
   "cell_type": "markdown",
   "metadata": {},
   "source": [
    "## 폰트 설정"
   ]
  },
  {
   "cell_type": "code",
   "execution_count": null,
   "metadata": {},
   "outputs": [],
   "source": [
    "# 시각화를 위한 폰트설정\n",
    "import platform\n",
    "import matplotlib.pyplot as plt\n",
    "\n",
    "system_name = platform.system()\n",
    "\n",
    "if system_name == \"Darwin\" :\n",
    "    font_family = \"AppleGothic\"\n",
    "elif system_name == \"Windows\":\n",
    "    font_family = \"Malgun Gothic\"\n",
    "else:\n",
    "    # Linux\n",
    "    !apt -qq -y install fonts-nanum > /dev/null\n",
    "    import matplotlib.font_manager as fm\n",
    "\n",
    "    fontpath = '/usr/share/fonts/truetype/nanum/NanumBarunGothic.ttf'\n",
    "    font = fm.FontProperties(fname=fontpath, size=9)\n",
    "    fm._rebuild()\n",
    "    font_family = \"NanumBarunGothic\"\n",
    "    \n",
    "# 폰트설정\n",
    "plt.rc(\"font\", family=font_family)\n",
    "# 마이너스폰트 설정\n",
    "plt.rc(\"axes\", unicode_minus=False)\n",
    "# 그래프 스타일 설정\n",
    "plt.style.use(\"ggplot\")\n",
    "\n",
    "\n",
    "# 그래프에 retina display 적용\n",
    "%config InlineBackend.figure_format = 'retina'"
   ]
  },
  {
   "cell_type": "code",
   "execution_count": null,
   "metadata": {},
   "outputs": [],
   "source": [
    "# 데이터 분석을 위해 pandas 불러오기\n",
    "import pandas as pd"
   ]
  },
  {
   "cell_type": "code",
   "execution_count": null,
   "metadata": {},
   "outputs": [],
   "source": [
    "pd.Series([1, 3, 5, -7, 9]).plot(title=\"한글폰트 확인\")"
   ]
  },
  {
   "cell_type": "markdown",
   "metadata": {},
   "source": [
    "## 라이브러리 로드"
   ]
  },
  {
   "cell_type": "code",
   "execution_count": null,
   "metadata": {},
   "outputs": [],
   "source": [
    "# 주석을 풀고 설치해 주세요. 주석을 푸는 방법은 아래 코드의 맨 앞에 있는 #을 지워주시면 됩니다.\n",
    "# !pip install -U finance-datareader"
   ]
  },
  {
   "cell_type": "code",
   "execution_count": null,
   "metadata": {},
   "outputs": [],
   "source": [
    "import FinanceDataReader as fdr\n",
    "fdr.__version__"
   ]
  },
  {
   "cell_type": "markdown",
   "metadata": {},
   "source": [
    "## 전체 종목 가져오기\n",
    "* 종목코드를 구하기 위해 전체 종목 가져오기"
   ]
  },
  {
   "cell_type": "code",
   "execution_count": null,
   "metadata": {},
   "outputs": [],
   "source": [
    "df_krx = fdr.StockListing('KRX')\n",
    "df_krx.head()"
   ]
  },
  {
   "cell_type": "markdown",
   "metadata": {},
   "source": [
    "### seaborn 을 통한 빈도수 시각화"
   ]
  },
  {
   "cell_type": "code",
   "execution_count": null,
   "metadata": {},
   "outputs": [],
   "source": [
    "import seaborn as sns"
   ]
  },
  {
   "cell_type": "code",
   "execution_count": null,
   "metadata": {},
   "outputs": [],
   "source": [
    "sns.countplot(data=df_krx, y=\"Region\", hue=\"Market\")"
   ]
  },
  {
   "cell_type": "code",
   "execution_count": null,
   "metadata": {},
   "outputs": [],
   "source": [
    "df_sub_region = df_krx[df_krx[\"Region\"].isin([\"서울특별시\", \"경기도\", \"인천광역시\"])]"
   ]
  },
  {
   "cell_type": "code",
   "execution_count": null,
   "metadata": {},
   "outputs": [],
   "source": [
    "# 수도권에 있는 Region 별 Market 의 빈도수를 시각화 해보세요.\n"
   ]
  },
  {
   "cell_type": "code",
   "execution_count": null,
   "metadata": {},
   "outputs": [],
   "source": [
    "# 섹터별 지역을 시각화 해보세요\n",
    "\n",
    "df_krx[\"Sector\"].value_counts().head(20)"
   ]
  },
  {
   "cell_type": "code",
   "execution_count": null,
   "metadata": {},
   "outputs": [],
   "source": [
    "df_sub_sector = df_krx[df_krx[\"Sector\"] == \"?\"]"
   ]
  },
  {
   "cell_type": "code",
   "execution_count": null,
   "metadata": {},
   "outputs": [],
   "source": [
    "sns.countplot(data=df_sub_sector, y=\"Region\", hue=\"Market\")"
   ]
  },
  {
   "cell_type": "markdown",
   "metadata": {},
   "source": [
    "## 주가 이름으로 종목 데이터 받아오기"
   ]
  },
  {
   "cell_type": "code",
   "execution_count": null,
   "metadata": {},
   "outputs": [],
   "source": [
    "# 주가 이름으로 종목코드 받아오는 함수 만들기\n",
    "def item_code_by_item_name(item_name):\n",
    "    name_list = df_krx.loc[df_krx[\"Name\"] == item_name, \"Symbol\"].tolist()\n",
    "    if len(name_list) > 0 :\n",
    "        item_code = name_list[0]\n",
    "        return item_code\n",
    "    else:\n",
    "        return False"
   ]
  },
  {
   "cell_type": "code",
   "execution_count": null,
   "metadata": {},
   "outputs": [],
   "source": [
    "# 종목명으로 일별 시세 수집\n",
    "def find_item_list(item_name, year=2020):\n",
    "    item_code = item_code_by_item_name(item_name)\n",
    "    df = fdr.DataReader(item_code, str(year))\n",
    "    return df"
   ]
  },
  {
   "cell_type": "markdown",
   "metadata": {},
   "source": [
    "## 개별종목 일별시세 가져오기"
   ]
  },
  {
   "cell_type": "code",
   "execution_count": null,
   "metadata": {},
   "outputs": [],
   "source": [
    "카카오 = find_item_list(\"카카오\")\n",
    "카카오.head(2)"
   ]
  },
  {
   "cell_type": "code",
   "execution_count": null,
   "metadata": {},
   "outputs": [],
   "source": [
    "씨젠 = find_item_list(\"씨젠\")\n",
    "씨젠.head(2)"
   ]
  },
  {
   "cell_type": "code",
   "execution_count": null,
   "metadata": {},
   "outputs": [],
   "source": [
    "신풍제약 = find_item_list(\"신풍제약\")\n",
    "신풍제약.head(2)"
   ]
  },
  {
   "cell_type": "code",
   "execution_count": null,
   "metadata": {},
   "outputs": [],
   "source": [
    "현대차 = find_item_list(\"현대차\")\n",
    "현대차.head(2)"
   ]
  },
  {
   "cell_type": "markdown",
   "metadata": {},
   "source": [
    "## 판다스 내장 plot 으로 그리기"
   ]
  },
  {
   "cell_type": "code",
   "execution_count": null,
   "metadata": {},
   "outputs": [],
   "source": [
    "ohlc_col = ['Open', 'High', 'Low', 'Close']\n",
    "ohlc_col"
   ]
  },
  {
   "cell_type": "code",
   "execution_count": null,
   "metadata": {},
   "outputs": [],
   "source": [
    "카카오[ohlc_col].plot(figsize=(15, 4), title=\"카카오\")"
   ]
  },
  {
   "cell_type": "code",
   "execution_count": null,
   "metadata": {},
   "outputs": [],
   "source": [
    "카카오[\"Volume\"].plot(figsize=(15, 4))"
   ]
  },
  {
   "cell_type": "code",
   "execution_count": null,
   "metadata": {},
   "outputs": [],
   "source": [
    "신풍제약[ohlc_col].plot(figsize=(15, 4), title=\"신풍제약\")"
   ]
  },
  {
   "cell_type": "code",
   "execution_count": null,
   "metadata": {},
   "outputs": [],
   "source": [
    "씨젠[ohlc_col].plot(figsize=(15, 4), title=\"씨젠\")"
   ]
  },
  {
   "cell_type": "markdown",
   "metadata": {},
   "source": [
    "## mplfinace\n",
    "\n",
    "* https://github.com/matplotlib/mplfinance"
   ]
  },
  {
   "cell_type": "code",
   "execution_count": null,
   "metadata": {},
   "outputs": [],
   "source": [
    "# !pip install --upgrade mplfinance"
   ]
  },
  {
   "cell_type": "code",
   "execution_count": null,
   "metadata": {},
   "outputs": [],
   "source": [
    "import mplfinance as mpf\n",
    "\n",
    "mpf.__version__"
   ]
  },
  {
   "cell_type": "code",
   "execution_count": null,
   "metadata": {},
   "outputs": [],
   "source": [
    "mpf.plot(카카오[-30:], figsize=(15, 4), volume=True)"
   ]
  },
  {
   "cell_type": "code",
   "execution_count": null,
   "metadata": {},
   "outputs": [],
   "source": [
    "mpf.plot(카카오[-30:], figsize=(15, 4), type='candle', volume=True)"
   ]
  },
  {
   "cell_type": "code",
   "execution_count": null,
   "metadata": {},
   "outputs": [],
   "source": [
    "mpf.plot(카카오[-100:], type='candle', mav=(3,6,9), figsize=(15, 4), volume=True)"
   ]
  },
  {
   "cell_type": "markdown",
   "metadata": {},
   "source": [
    "## 볼린저 밴드\n",
    "\n",
    "볼린저 밴드(Bollinger Bands)는 1980년대 존 볼린저가 개발하고 2011년 상표권 취득한 주가 기술적 분석 도구이다. 트레이딩 밴드 개념에서 발전된 볼린저 밴드와 상대지표 그리고 대역폭은 이전 거래와의 상대적 가격의 높음과 낮음을 판단하는 데 사용된다. 볼린저 밴드는 켈트너 채널과 비슷한 변동성 지표이다. 볼린저 밴드는 주가가 이동평균선 중심으로 표준편차 범위 안에서 움직인다는 전제로 개발되었다\n",
    "\n",
    "\n",
    "볼린저 밴드는 다음과 같이 구성된다.\n",
    "* N기간 동안의 이동평균(MA)\n",
    "* 이동평균 위의 K배 표준편차 상위 밴드\n",
    "* 이동평균 아래의 K배 표준편차 하위 밴드\n",
    "\n",
    "일반적으로 N과 K의 값은 20과 2이다. 평균값의 기본 선택의 단순 이동 평균이지만, 필요에 따라 다른 종류의 평균값을 쓸 수 있다. 지수 이동 평균(Exponential moving averages)은 일반적인 대안이다. 대개 중간 밴드와 표준 편차의 계산을 위해 같은 기간을 사용한다.\n",
    "\n",
    "\n",
    "\n",
    "* 출처 : https://ko.wikipedia.org/wiki/%EB%B3%BC%EB%A6%B0%EC%A0%80_%EB%B0%B4%EB%93%9C"
   ]
  },
  {
   "cell_type": "code",
   "execution_count": null,
   "metadata": {},
   "outputs": [],
   "source": [
    "def show_bband(df):\n",
    "    \"\"\"\n",
    "    볼린저 밴드\n",
    "    N기간 동안의 이동평균(MA)\n",
    "    이동평균 위의 K배 표준편차 상위 밴드\n",
    "    이동평균 아래의 K배 표준편차 하위 밴드\n",
    "    일반적으로 N과 K의 값은 20과 2\n",
    "    \"\"\"\n",
    "    plt.style.use(\"seaborn-whitegrid\")\n",
    "    df['MA20'] = df['Close'].rolling(window=20).mean()\n",
    "    df['stddev'] = df['Close'].rolling(window=20).std()\n",
    "    df['upper'] = df['MA20'] + (df['stddev'] * 2)\n",
    "    df['lower'] = df['MA20'] - (df['stddev'] * 2)\n",
    "    df = df[19:].copy()\n",
    "    \n",
    "    plt.figure(figsize=(9, 5))\n",
    "    plt.plot(df.index, df['Close'], color='#0000ff', label='Close')\n",
    "    plt.plot(df.index, df['upper'], 'r--', label = 'Upper band')\n",
    "    plt.plot(df.index, df['MA20'], 'k:', label='Moving average 20')\n",
    "    plt.plot(df.index, df['lower'], 'c--', label = 'Lower band')\n",
    "    plt.fill_between(df.index, df['upper'], df['lower'], color='0.9')\n",
    "    plt.legend(loc='best')\n",
    "    plt.title('Bollinger Band (20 day, 2 std)')\n",
    "    plt.show()"
   ]
  },
  {
   "cell_type": "code",
   "execution_count": null,
   "metadata": {},
   "outputs": [],
   "source": [
    "show_bband(카카오)"
   ]
  },
  {
   "cell_type": "code",
   "execution_count": null,
   "metadata": {},
   "outputs": [],
   "source": []
  }
 ],
 "metadata": {
  "kernelspec": {
   "display_name": "Python 3",
   "language": "python",
   "name": "python3"
  },
  "language_info": {
   "codemirror_mode": {
    "name": "ipython",
    "version": 3
   },
   "file_extension": ".py",
   "mimetype": "text/x-python",
   "name": "python",
   "nbconvert_exporter": "python",
   "pygments_lexer": "ipython3",
   "version": "3.7.6"
  },
  "varInspector": {
   "cols": {
    "lenName": 16,
    "lenType": 16,
    "lenVar": 40
   },
   "kernels_config": {
    "python": {
     "delete_cmd_postfix": "",
     "delete_cmd_prefix": "del ",
     "library": "var_list.py",
     "varRefreshCmd": "print(var_dic_list())"
    },
    "r": {
     "delete_cmd_postfix": ") ",
     "delete_cmd_prefix": "rm(",
     "library": "var_list.r",
     "varRefreshCmd": "cat(var_dic_list()) "
    }
   },
   "types_to_exclude": [
    "module",
    "function",
    "builtin_function_or_method",
    "instance",
    "_Feature"
   ],
   "window_display": false
  }
 },
 "nbformat": 4,
 "nbformat_minor": 4
}
